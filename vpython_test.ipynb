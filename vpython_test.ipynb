{
 "cells": [
  {
   "cell_type": "code",
   "execution_count": 57,
   "metadata": {
    "collapsed": false
   },
   "outputs": [
    {
     "data": {
      "text/html": [
       "<div id=\"glowscript\" class=\"glowscript\"></div>"
      ],
      "text/plain": [
       "<IPython.core.display.HTML object>"
      ]
     },
     "metadata": {},
     "output_type": "display_data"
    },
    {
     "data": {
      "application/javascript": [
       "window.__context = { glowscript_container: $(\"#glowscript\").removeAttr(\"id\")}"
      ],
      "text/plain": [
       "<IPython.core.display.Javascript object>"
      ]
     },
     "metadata": {},
     "output_type": "display_data"
    }
   ],
   "source": [
    "# %matplotlib inline\n",
    "# from __future__ import division, print_function\n",
    "from vpython import *\n",
    "import numpy as np\n",
    "scene = canvas(title='3D')\n",
    "scene.background = color.gray(0.5)"
   ]
  },
  {
   "cell_type": "code",
   "execution_count": 60,
   "metadata": {
    "collapsed": false
   },
   "outputs": [],
   "source": [
    "body = cylinder(pos=vector(0,0,-0.05), axis=vector(0,0,0.1), radius=0.1, color=color.red)\n",
    "arm = arrow(pos=vector(0,0,0),axis=vector(0.3,0,0), shaftwidth=0.05)\n",
    "# box()"
   ]
  },
  {
   "cell_type": "code",
   "execution_count": 61,
   "metadata": {
    "collapsed": false
   },
   "outputs": [],
   "source": [
    "dt = 1./30\n",
    "t = 0\n",
    "body.trail = curve(color=color.blue)\n",
    "# body.velocity = \n",
    "while t < 3:\n",
    "    rate(30)\n",
    "#     if ball.pos.x > wallR.pos.x:\n",
    "#     arm.axis = vector(2.*np.pi/3*t,,0)\n",
    "    body.pos = vector(np.sin(2.*np.pi/3*t),np.sin(2.*np.pi/3*t),-0.05) \n",
    "    arm.pos = body.pos\n",
    "    body.rotate(angle = radians(2.*np.pi/3*t),axis = vector(0,0,1), origin=vector(0,0,0))\n",
    "#     arm.rotate()\n",
    "    body.trail.append(pos=body.pos)\n",
    "    t = t + dt"
   ]
  },
  {
   "cell_type": "code",
   "execution_count": null,
   "metadata": {
    "collapsed": false
   },
   "outputs": [],
   "source": []
  },
  {
   "cell_type": "code",
   "execution_count": null,
   "metadata": {
    "collapsed": true
   },
   "outputs": [],
   "source": []
  }
 ],
 "metadata": {
  "anaconda-cloud": {},
  "kernelspec": {
   "display_name": "Python [conda root]",
   "language": "python",
   "name": "conda-root-py"
  },
  "language_info": {
   "codemirror_mode": {
    "name": "ipython",
    "version": 2
   },
   "file_extension": ".py",
   "mimetype": "text/x-python",
   "name": "python",
   "nbconvert_exporter": "python",
   "pygments_lexer": "ipython2",
   "version": "2.7.12"
  }
 },
 "nbformat": 4,
 "nbformat_minor": 1
}
